{
 "cells": [
  {
   "cell_type": "markdown",
   "metadata": {},
   "source": [
    "# Treinamento da rede para predição de incêndio\n",
    "\n",
    "A rede utilizada para predição de incêndio é a VGG-16 (http://www.robots.ox.ac.uk/~vgg/research/very_deep/). "
   ]
  },
  {
   "cell_type": "markdown",
   "metadata": {},
   "source": [
    "## Definição dos endereços utilizados neste notebook"
   ]
  },
  {
   "cell_type": "code",
   "execution_count": 1,
   "metadata": {
    "collapsed": true
   },
   "outputs": [],
   "source": [
    "# Dados para treinamento\n",
    "train_data_dir = '../datasets/FireIds'\n",
    "\n",
    "# Dados para teste\n",
    "test_data_dir = '../datasets/Validation'\n",
    "\n",
    "# Modelos\n",
    "models_dir = '../models/'\n",
    "\n",
    "# Nome da rede pré-treinada\n",
    "vgg16_name = 'vgg16_weights.h5'\n",
    "\n",
    "# Nome da rede para detecção de incêndio\n",
    "fire_vgg16_name = 'fire_vgg16_weights2.h5'\n",
    "\n",
    "# Hostórico do modelo treinado\n",
    "fire_model = 'fire_detection'"
   ]
  },
  {
   "cell_type": "markdown",
   "metadata": {},
   "source": [
    "## Parâmetros para o treinamento"
   ]
  },
  {
   "cell_type": "code",
   "execution_count": 2,
   "metadata": {
    "collapsed": true
   },
   "outputs": [],
   "source": [
    "# Quantidade de exemplos utilizados no treinamento\n",
    "nb_train_samples = 400\n",
    "\n",
    "# Quantidade de exemplos utilizados no teste\n",
    "nb_test_samples = 90"
   ]
  },
  {
   "cell_type": "code",
   "execution_count": 3,
   "metadata": {
    "collapsed": true
   },
   "outputs": [],
   "source": [
    "import numpy as np\n",
    "import numpy.random as nr\n",
    "import os\n",
    "os.environ['THEANO_FLAGS'] = \"device=gpu0,floatX=float32\"  "
   ]
  },
  {
   "cell_type": "code",
   "execution_count": 4,
   "metadata": {
    "collapsed": false
   },
   "outputs": [
    {
     "name": "stderr",
     "output_type": "stream",
     "text": [
      "Using Theano backend.\n",
      "Using gpu device 0: GeForce 830M (CNMeM is disabled, cuDNN 5110)\n",
      "/opt/conda/lib/python2.7/site-packages/theano/sandbox/cuda/__init__.py:600: UserWarning: Your cuDNN version is more recent than the one Theano officially supports. If you see any problems, try updating Theano or downgrading cuDNN to version 5.\n",
      "  warnings.warn(warn)\n"
     ]
    }
   ],
   "source": [
    "%matplotlib inline\n",
    "import matplotlib.pylab as plt\n",
    "import matplotlib.pyplot as plot\n",
    "import h5py\n",
    "\n",
    "from keras.preprocessing.image import ImageDataGenerator, load_img, img_to_array\n",
    "from keras.models import Sequential\n",
    "from keras.layers import Convolution2D, MaxPooling2D, ZeroPadding2D\n",
    "from keras.layers import Activation, Dropout, Flatten, Dense\n",
    "from keras import backend as K\n",
    "from keras.utils import np_utils\n",
    "\n",
    "import sys\n",
    "#sys.path.append('../src')\n",
    "from my_keras_utilities import TrainingPlotter, load_model_and_history\n",
    "\n",
    "K.set_image_dim_ordering('th')"
   ]
  },
  {
   "cell_type": "markdown",
   "metadata": {},
   "source": [
    "## Definição da CNN"
   ]
  },
  {
   "cell_type": "code",
   "execution_count": 5,
   "metadata": {
    "collapsed": true
   },
   "outputs": [],
   "source": [
    "# Carrega o modelo da VGG-16 com seus devidos pesos sem as camadas densas (totalmente conectadas)\n",
    "def get_tr_vgg_model(weights_path, img_width, img_height):\n",
    "    \n",
    "    model = Sequential()\n",
    "    model.add(ZeroPadding2D((1, 1), input_shape=(3, img_width, img_height)))\n",
    "\n",
    "    model.add(Convolution2D(64, 3, 3, activation='relu', name='conv1_1'))\n",
    "    model.add(ZeroPadding2D((1, 1)))\n",
    "    model.add(Convolution2D(64, 3, 3, activation='relu', name='conv1_2'))\n",
    "    model.add(MaxPooling2D((2, 2), strides=(2, 2)))\n",
    "\n",
    "    model.add(ZeroPadding2D((1, 1)))\n",
    "    model.add(Convolution2D(128, 3, 3, activation='relu', name='conv2_1'))\n",
    "    model.add(ZeroPadding2D((1, 1)))\n",
    "    model.add(Convolution2D(128, 3, 3, activation='relu', name='conv2_2'))\n",
    "    model.add(MaxPooling2D((2, 2), strides=(2, 2)))\n",
    "\n",
    "    model.add(ZeroPadding2D((1, 1)))\n",
    "    model.add(Convolution2D(256, 3, 3, activation='relu', name='conv3_1'))\n",
    "    model.add(ZeroPadding2D((1, 1)))\n",
    "    model.add(Convolution2D(256, 3, 3, activation='relu', name='conv3_2'))\n",
    "    model.add(ZeroPadding2D((1, 1)))\n",
    "    model.add(Convolution2D(256, 3, 3, activation='relu', name='conv3_3'))\n",
    "    model.add(MaxPooling2D((2, 2), strides=(2, 2)))\n",
    "\n",
    "    model.add(ZeroPadding2D((1, 1)))\n",
    "    model.add(Convolution2D(512, 3, 3, activation='relu', name='conv4_1'))\n",
    "    model.add(ZeroPadding2D((1, 1)))\n",
    "    model.add(Convolution2D(512, 3, 3, activation='relu', name='conv4_2'))\n",
    "    model.add(ZeroPadding2D((1, 1)))\n",
    "    model.add(Convolution2D(512, 3, 3, activation='relu', name='conv4_3'))\n",
    "    model.add(MaxPooling2D((2, 2), strides=(2, 2)))\n",
    "\n",
    "    model.add(ZeroPadding2D((1, 1)))\n",
    "    model.add(Convolution2D(512, 3, 3, activation='relu', name='conv5_1'))\n",
    "    model.add(ZeroPadding2D((1, 1)))\n",
    "    model.add(Convolution2D(512, 3, 3, activation='relu', name='conv5_2'))\n",
    "    model.add(ZeroPadding2D((1, 1)))\n",
    "    model.add(Convolution2D(512, 3, 3, activation='relu', name='conv5_3'))\n",
    "    model.add(MaxPooling2D((2, 2), strides=(2, 2)))\n",
    "\n",
    "    # Carrega os pesos necesários até o último bloco da VGG-15 anterior as camadas densas\n",
    "    assert os.path.exists(weights_path), 'Model weights not found (see \"weights_path\" variable in script).'\n",
    "    \n",
    "    f = h5py.File(weights_path)\n",
    "    for k in range(f.attrs['nb_layers']):\n",
    "        if k >= len(model.layers):\n",
    "            break\n",
    "        g = f['layer_{}'.format(k)]\n",
    "        weights = [g['param_{}'.format(p)] for p in range(g.attrs['nb_params'])]\n",
    "        model.layers[k].set_weights(weights)\n",
    "    f.close()\n",
    "    \n",
    "    print ('Model loaded.')\n",
    "    \n",
    "    return model"
   ]
  },
  {
   "cell_type": "markdown",
   "metadata": {},
   "source": [
    "# Carregando e Normalizando os dados"
   ]
  },
  {
   "cell_type": "code",
   "execution_count": 6,
   "metadata": {
    "collapsed": false
   },
   "outputs": [
    {
     "name": "stdout",
     "output_type": "stream",
     "text": [
      "(400, 3, 85, 128)\n",
      "(90, 3, 85, 128)\n",
      "(400, 2)\n",
      "(90, 2)\n"
     ]
    }
   ],
   "source": [
    "fire_train_files = os.listdir(train_data_dir+'/fire')\n",
    "fire_test_files  = os.listdir(test_data_dir +'/fire')\n",
    "\n",
    "not_fire_train_files = os.listdir(train_data_dir+'/not_fire')\n",
    "not_fire_test_files  = os.listdir(test_data_dir +'/not_fire')\n",
    "\n",
    "image_train_filenames = []\n",
    "for i in range(0,nb_train_samples):\n",
    "    fn = '{}/fire/{}'.format(train_data_dir, fire_train_files[i])\n",
    "    image_train_filenames.append(fn)\n",
    "    fn = '{}/not_fire/{}'.format(train_data_dir, not_fire_train_files[i])\n",
    "    image_train_filenames.append(fn)\n",
    "    \n",
    "image_test_filenames = []\n",
    "for i in range(0,nb_test_samples):\n",
    "    fn = '{}/fire/{}'.format(test_data_dir, fire_test_files[i])\n",
    "    image_test_filenames.append(fn)\n",
    "    fn = '{}/not_fire/{}'.format(test_data_dir, not_fire_test_files[i])\n",
    "    image_test_filenames.append(fn)\n",
    "    \n",
    "img_width, img_height = 85, 128 #340, 512\n",
    "\n",
    "X_train = np.empty((2*nb_train_samples, 3, img_width, img_height), np.uint8)\n",
    "y_train = np.empty((2*nb_train_samples,), np.int32)\n",
    "\n",
    "for i, fn in enumerate(image_train_filenames):\n",
    "    y_train[i] = 1 if fn.split('/')[-2] == 'fire' else 0\n",
    "    img = load_img(fn, grayscale=False, target_size=(img_width, img_height))\n",
    "    X_train[i] = img_to_array(img, dim_ordering='th')\n",
    "\n",
    "X_test = np.empty((2*nb_test_samples, 3, img_width, img_height), np.uint8)\n",
    "y_test = np.empty((2*nb_test_samples,), np.int32)\n",
    "for i, fn in enumerate(image_test_filenames):\n",
    "    y_test[i] = 1 if fn.split('/')[-2] == 'fire' else 0\n",
    "    img = load_img(fn, grayscale=False, target_size=(img_width, img_height))\n",
    "    X_test[i] = img_to_array(img, dim_ordering='th')\n",
    "    \n",
    "y_train = y_train.ravel()\n",
    "y_test = y_test.ravel()\n",
    "\n",
    "n_train = nb_train_samples\n",
    "n_test  = nb_test_samples\n",
    "\n",
    "# Transforma o vetor de labels para o formato de one-hot encoding.\n",
    "Y_train = np_utils.to_categorical(y_train)[:n_train]\n",
    "Y_test = np_utils.to_categorical(y_test)[:n_test]\n",
    "\n",
    "#Normalização dos dados\n",
    "X_train = X_train.astype('float32')[:n_train]\n",
    "X_test = X_test.astype('float32')[:n_test]\n",
    "X_train /= 255\n",
    "X_test /= 255\n",
    "\n",
    "img_width, img_height = X_train.shape[2:]\n",
    "\n",
    "print X_train.shape\n",
    "print X_test.shape\n",
    "print Y_train.shape\n",
    "print Y_test.shape"
   ]
  },
  {
   "cell_type": "markdown",
   "metadata": {},
   "source": [
    "## Carregando e inicializando pesos da CNN"
   ]
  },
  {
   "cell_type": "code",
   "execution_count": 7,
   "metadata": {
    "collapsed": false
   },
   "outputs": [
    {
     "name": "stdout",
     "output_type": "stream",
     "text": [
      "Model loaded.\n",
      "n de camadas: 31\n",
      "____________________________________________________________________________________________________\n",
      "Layer (type)                     Output Shape          Param #     Connected to                     \n",
      "====================================================================================================\n",
      "zeropadding2d_1 (ZeroPadding2D)  (None, 3, 87, 130)    0           zeropadding2d_input_1[0][0]      \n",
      "____________________________________________________________________________________________________\n",
      "conv1_1 (Convolution2D)          (None, 64, 85, 128)   1792        zeropadding2d_1[0][0]            \n",
      "____________________________________________________________________________________________________\n",
      "zeropadding2d_2 (ZeroPadding2D)  (None, 64, 87, 130)   0           conv1_1[0][0]                    \n",
      "____________________________________________________________________________________________________\n",
      "conv1_2 (Convolution2D)          (None, 64, 85, 128)   36928       zeropadding2d_2[0][0]            \n",
      "____________________________________________________________________________________________________\n",
      "maxpooling2d_1 (MaxPooling2D)    (None, 64, 42, 64)    0           conv1_2[0][0]                    \n",
      "____________________________________________________________________________________________________\n",
      "zeropadding2d_3 (ZeroPadding2D)  (None, 64, 44, 66)    0           maxpooling2d_1[0][0]             \n",
      "____________________________________________________________________________________________________\n",
      "conv2_1 (Convolution2D)          (None, 128, 42, 64)   73856       zeropadding2d_3[0][0]            \n",
      "____________________________________________________________________________________________________\n",
      "zeropadding2d_4 (ZeroPadding2D)  (None, 128, 44, 66)   0           conv2_1[0][0]                    \n",
      "____________________________________________________________________________________________________\n",
      "conv2_2 (Convolution2D)          (None, 128, 42, 64)   147584      zeropadding2d_4[0][0]            \n",
      "____________________________________________________________________________________________________\n",
      "maxpooling2d_2 (MaxPooling2D)    (None, 128, 21, 32)   0           conv2_2[0][0]                    \n",
      "____________________________________________________________________________________________________\n",
      "zeropadding2d_5 (ZeroPadding2D)  (None, 128, 23, 34)   0           maxpooling2d_2[0][0]             \n",
      "____________________________________________________________________________________________________\n",
      "conv3_1 (Convolution2D)          (None, 256, 21, 32)   295168      zeropadding2d_5[0][0]            \n",
      "____________________________________________________________________________________________________\n",
      "zeropadding2d_6 (ZeroPadding2D)  (None, 256, 23, 34)   0           conv3_1[0][0]                    \n",
      "____________________________________________________________________________________________________\n",
      "conv3_2 (Convolution2D)          (None, 256, 21, 32)   590080      zeropadding2d_6[0][0]            \n",
      "____________________________________________________________________________________________________\n",
      "zeropadding2d_7 (ZeroPadding2D)  (None, 256, 23, 34)   0           conv3_2[0][0]                    \n",
      "____________________________________________________________________________________________________\n",
      "conv3_3 (Convolution2D)          (None, 256, 21, 32)   590080      zeropadding2d_7[0][0]            \n",
      "____________________________________________________________________________________________________\n",
      "maxpooling2d_3 (MaxPooling2D)    (None, 256, 10, 16)   0           conv3_3[0][0]                    \n",
      "____________________________________________________________________________________________________\n",
      "zeropadding2d_8 (ZeroPadding2D)  (None, 256, 12, 18)   0           maxpooling2d_3[0][0]             \n",
      "____________________________________________________________________________________________________\n",
      "conv4_1 (Convolution2D)          (None, 512, 10, 16)   1180160     zeropadding2d_8[0][0]            \n",
      "____________________________________________________________________________________________________\n",
      "zeropadding2d_9 (ZeroPadding2D)  (None, 512, 12, 18)   0           conv4_1[0][0]                    \n",
      "____________________________________________________________________________________________________\n",
      "conv4_2 (Convolution2D)          (None, 512, 10, 16)   2359808     zeropadding2d_9[0][0]            \n",
      "____________________________________________________________________________________________________\n",
      "zeropadding2d_10 (ZeroPadding2D) (None, 512, 12, 18)   0           conv4_2[0][0]                    \n",
      "____________________________________________________________________________________________________\n",
      "conv4_3 (Convolution2D)          (None, 512, 10, 16)   2359808     zeropadding2d_10[0][0]           \n",
      "____________________________________________________________________________________________________\n",
      "maxpooling2d_4 (MaxPooling2D)    (None, 512, 5, 8)     0           conv4_3[0][0]                    \n",
      "____________________________________________________________________________________________________\n",
      "zeropadding2d_11 (ZeroPadding2D) (None, 512, 7, 10)    0           maxpooling2d_4[0][0]             \n",
      "____________________________________________________________________________________________________\n",
      "conv5_1 (Convolution2D)          (None, 512, 5, 8)     2359808     zeropadding2d_11[0][0]           \n",
      "____________________________________________________________________________________________________\n",
      "zeropadding2d_12 (ZeroPadding2D) (None, 512, 7, 10)    0           conv5_1[0][0]                    \n",
      "____________________________________________________________________________________________________\n",
      "conv5_2 (Convolution2D)          (None, 512, 5, 8)     2359808     zeropadding2d_12[0][0]           \n",
      "____________________________________________________________________________________________________\n",
      "zeropadding2d_13 (ZeroPadding2D) (None, 512, 7, 10)    0           conv5_2[0][0]                    \n",
      "____________________________________________________________________________________________________\n",
      "conv5_3 (Convolution2D)          (None, 512, 5, 8)     2359808     zeropadding2d_13[0][0]           \n",
      "____________________________________________________________________________________________________\n",
      "maxpooling2d_5 (MaxPooling2D)    (None, 512, 2, 4)     0           conv5_3[0][0]                    \n",
      "====================================================================================================\n",
      "Total params: 14,714,688\n",
      "Trainable params: 14,714,688\n",
      "Non-trainable params: 0\n",
      "____________________________________________________________________________________________________\n",
      "None\n"
     ]
    }
   ],
   "source": [
    "# Caminho pesos da VGG-16\n",
    "weights_path = models_dir+vgg16_name\n",
    "\n",
    "# Carrega o modelo até a última camada convolucional\n",
    "vgg16_tr_model = get_tr_vgg_model(weights_path, img_width, img_height)\n",
    "\n",
    "# Execute esse comando para conhecer a arquitetura das camadas convolucionais da VGG-16\n",
    "\n",
    "print 'n de camadas:',len(vgg16_tr_model.layers)\n",
    "print vgg16_tr_model.summary()\n"
   ]
  },
  {
   "cell_type": "markdown",
   "metadata": {},
   "source": [
    "## Preparando camadas de classificação"
   ]
  },
  {
   "cell_type": "code",
   "execution_count": 8,
   "metadata": {
    "collapsed": false
   },
   "outputs": [
    {
     "name": "stdout",
     "output_type": "stream",
     "text": [
      "0 zeropadding2d_1\n",
      "1 conv1_1\n",
      "2 zeropadding2d_2\n",
      "3 conv1_2\n",
      "4 maxpooling2d_1\n",
      "5 zeropadding2d_3\n",
      "6 conv2_1\n",
      "7 zeropadding2d_4\n",
      "8 conv2_2\n",
      "9 maxpooling2d_2\n",
      "10 zeropadding2d_5\n",
      "11 conv3_1\n",
      "12 zeropadding2d_6\n",
      "13 conv3_2\n",
      "14 zeropadding2d_7\n",
      "15 conv3_3\n",
      "16 maxpooling2d_3\n",
      "17 zeropadding2d_8\n",
      "18 conv4_1\n",
      "19 zeropadding2d_9\n",
      "20 conv4_2\n",
      "21 zeropadding2d_10\n",
      "22 conv4_3\n",
      "23 maxpooling2d_4\n",
      "24 zeropadding2d_11\n",
      "25 conv5_1\n",
      "26 zeropadding2d_12\n",
      "27 conv5_2\n",
      "28 zeropadding2d_13\n",
      "29 conv5_3\n",
      "30 maxpooling2d_5\n",
      "____________________________________________________________________________________________________\n",
      "Layer (type)                     Output Shape          Param #     Connected to                     \n",
      "====================================================================================================\n",
      "zeropadding2d_1 (ZeroPadding2D)  (None, 3, 87, 130)    0           zeropadding2d_input_1[0][0]      \n",
      "____________________________________________________________________________________________________\n",
      "conv1_1 (Convolution2D)          (None, 64, 85, 128)   1792        zeropadding2d_1[0][0]            \n",
      "____________________________________________________________________________________________________\n",
      "zeropadding2d_2 (ZeroPadding2D)  (None, 64, 87, 130)   0           conv1_1[0][0]                    \n",
      "____________________________________________________________________________________________________\n",
      "conv1_2 (Convolution2D)          (None, 64, 85, 128)   36928       zeropadding2d_2[0][0]            \n",
      "____________________________________________________________________________________________________\n",
      "maxpooling2d_1 (MaxPooling2D)    (None, 64, 42, 64)    0           conv1_2[0][0]                    \n",
      "____________________________________________________________________________________________________\n",
      "zeropadding2d_3 (ZeroPadding2D)  (None, 64, 44, 66)    0           maxpooling2d_1[0][0]             \n",
      "____________________________________________________________________________________________________\n",
      "conv2_1 (Convolution2D)          (None, 128, 42, 64)   73856       zeropadding2d_3[0][0]            \n",
      "____________________________________________________________________________________________________\n",
      "zeropadding2d_4 (ZeroPadding2D)  (None, 128, 44, 66)   0           conv2_1[0][0]                    \n",
      "____________________________________________________________________________________________________\n",
      "conv2_2 (Convolution2D)          (None, 128, 42, 64)   147584      zeropadding2d_4[0][0]            \n",
      "____________________________________________________________________________________________________\n",
      "maxpooling2d_2 (MaxPooling2D)    (None, 128, 21, 32)   0           conv2_2[0][0]                    \n",
      "____________________________________________________________________________________________________\n",
      "zeropadding2d_5 (ZeroPadding2D)  (None, 128, 23, 34)   0           maxpooling2d_2[0][0]             \n",
      "____________________________________________________________________________________________________\n",
      "conv3_1 (Convolution2D)          (None, 256, 21, 32)   295168      zeropadding2d_5[0][0]            \n",
      "____________________________________________________________________________________________________\n",
      "zeropadding2d_6 (ZeroPadding2D)  (None, 256, 23, 34)   0           conv3_1[0][0]                    \n",
      "____________________________________________________________________________________________________\n",
      "conv3_2 (Convolution2D)          (None, 256, 21, 32)   590080      zeropadding2d_6[0][0]            \n",
      "____________________________________________________________________________________________________\n",
      "zeropadding2d_7 (ZeroPadding2D)  (None, 256, 23, 34)   0           conv3_2[0][0]                    \n",
      "____________________________________________________________________________________________________\n",
      "conv3_3 (Convolution2D)          (None, 256, 21, 32)   590080      zeropadding2d_7[0][0]            \n",
      "____________________________________________________________________________________________________\n",
      "maxpooling2d_3 (MaxPooling2D)    (None, 256, 10, 16)   0           conv3_3[0][0]                    \n",
      "____________________________________________________________________________________________________\n",
      "zeropadding2d_8 (ZeroPadding2D)  (None, 256, 12, 18)   0           maxpooling2d_3[0][0]             \n",
      "____________________________________________________________________________________________________\n",
      "conv4_1 (Convolution2D)          (None, 512, 10, 16)   1180160     zeropadding2d_8[0][0]            \n",
      "____________________________________________________________________________________________________\n",
      "zeropadding2d_9 (ZeroPadding2D)  (None, 512, 12, 18)   0           conv4_1[0][0]                    \n",
      "____________________________________________________________________________________________________\n",
      "conv4_2 (Convolution2D)          (None, 512, 10, 16)   2359808     zeropadding2d_9[0][0]            \n",
      "____________________________________________________________________________________________________\n",
      "zeropadding2d_10 (ZeroPadding2D) (None, 512, 12, 18)   0           conv4_2[0][0]                    \n",
      "____________________________________________________________________________________________________\n",
      "conv4_3 (Convolution2D)          (None, 512, 10, 16)   2359808     zeropadding2d_10[0][0]           \n",
      "____________________________________________________________________________________________________\n",
      "maxpooling2d_4 (MaxPooling2D)    (None, 512, 5, 8)     0           conv4_3[0][0]                    \n",
      "____________________________________________________________________________________________________\n",
      "zeropadding2d_11 (ZeroPadding2D) (None, 512, 7, 10)    0           maxpooling2d_4[0][0]             \n",
      "____________________________________________________________________________________________________\n",
      "conv5_1 (Convolution2D)          (None, 512, 5, 8)     2359808     zeropadding2d_11[0][0]           \n",
      "____________________________________________________________________________________________________\n",
      "zeropadding2d_12 (ZeroPadding2D) (None, 512, 7, 10)    0           conv5_1[0][0]                    \n",
      "____________________________________________________________________________________________________\n",
      "conv5_2 (Convolution2D)          (None, 512, 5, 8)     2359808     zeropadding2d_12[0][0]           \n",
      "____________________________________________________________________________________________________\n",
      "zeropadding2d_13 (ZeroPadding2D) (None, 512, 7, 10)    0           conv5_2[0][0]                    \n",
      "____________________________________________________________________________________________________\n",
      "conv5_3 (Convolution2D)          (None, 512, 5, 8)     2359808     zeropadding2d_13[0][0]           \n",
      "____________________________________________________________________________________________________\n",
      "maxpooling2d_5 (MaxPooling2D)    (None, 512, 2, 4)     0           conv5_3[0][0]                    \n",
      "____________________________________________________________________________________________________\n",
      "flatten_1 (Flatten)              (None, 4096)          0           maxpooling2d_5[0][0]             \n",
      "____________________________________________________________________________________________________\n",
      "dense_1 (Dense)                  (None, 512)           2097664     flatten_1[0][0]                  \n",
      "____________________________________________________________________________________________________\n",
      "dropout_1 (Dropout)              (None, 512)           0           dense_1[0][0]                    \n",
      "____________________________________________________________________________________________________\n",
      "dense_2 (Dense)                  (None, 2)             1026        dropout_1[0][0]                  \n",
      "====================================================================================================\n",
      "Total params: 16,813,378\n",
      "Trainable params: 2,098,690\n",
      "Non-trainable params: 14,714,688\n",
      "____________________________________________________________________________________________________\n"
     ]
    }
   ],
   "source": [
    "############ Novas camadas ###########\n",
    "vgg16_tr_model.add(Flatten())\n",
    "vgg16_tr_model.add(Dense(512,activation='relu'))\n",
    "vgg16_tr_model.add(Dropout(0.5))\n",
    "vgg16_tr_model.add(Dense(2,activation='softmax'))\n",
    "######################################\n",
    "\n",
    "n = 31  # número de camadas que não serão re-treinadas\n",
    "\n",
    "# Congela as camadas até última camada convolucional da VGG-16\n",
    "i = 0\n",
    "for layer in vgg16_tr_model.layers[:n]:\n",
    "    print i, layer.name\n",
    "    i+=1\n",
    "    layer.trainable = False\n",
    "vgg16_tr_model.summary()\n"
   ]
  },
  {
   "cell_type": "markdown",
   "metadata": {},
   "source": [
    "## Treinamento da rede"
   ]
  },
  {
   "cell_type": "code",
   "execution_count": 9,
   "metadata": {
    "collapsed": false,
    "scrolled": false
   },
   "outputs": [
    {
     "name": "stdout",
     "output_type": "stream",
     "text": [
      "[INFO] evaluating...\n",
      "[INFO] accuracy: 74.44%\n"
     ]
    },
    {
     "data": {
      "image/png": "[encoded data removed]",
      "text/plain": [
       "<matplotlib.figure.Figure at 0x7fdca4136f90>"
      ]
     },
     "metadata": {},
     "output_type": "display_data"
    }
   ],
   "source": [
    "model_name = models_dir+fire_model # toda vez que mudar o modelo, altere o nome dele\n",
    "ploss = 2.0\n",
    "nepochs = 30\n",
    "\n",
    "if True: #not os.path.isfile(model_name + '.model'):\n",
    "    print(\"[INFO] creating model...\")\n",
    "    # History, checkpoint, earlystop, plot losses:\n",
    "    my_big_callback = TrainingPlotter(n=1, filepath=model_name, patience=10)\n",
    "    \n",
    "    # initialize the optimizer and model\n",
    "    print(\"[INFO] compiling model...\")\n",
    "    vgg16_tr_model.compile(loss=\"categorical_crossentropy\", optimizer='adam', metrics=[\"accuracy\"])    \n",
    "    \n",
    "else:\n",
    "    print(\"[INFO] loading model...\")\n",
    "    vgg16_tr_model, my_big_callback = load_model_and_history(model_name)\n",
    "\n",
    "past_epochs = my_big_callback.get_nepochs()\n",
    "\n",
    "fig = plt.figure(figsize=(15,6))\n",
    "plt.ylim(0.0, ploss)\n",
    "plt.xlim(0, nepochs)\n",
    "plt.grid(True)\n",
    "\n",
    "print(\"[INFO] training...\")\n",
    "try:\n",
    "    vgg16_tr_model.fit(X_train, Y_train, batch_size=128, nb_epoch=nepochs,\n",
    "                       verbose=0, validation_split=0.33, callbacks = [my_big_callback])\n",
    "except KeyboardInterrupt:\n",
    "    pass\n",
    "\n",
    "print(\"[INFO] evaluating...\")\n",
    "loss, accuracy = vgg16_tr_model.evaluate(X_test, Y_test, batch_size=128, verbose=0)\n",
    "\n",
    "print(\"[INFO] accuracy: {:.2f}%\".format(accuracy * 100))"
   ]
  },
  {
   "cell_type": "markdown",
   "metadata": {},
   "source": [
    "## Salvando os pesos da rede treinada"
   ]
  },
  {
   "cell_type": "code",
   "execution_count": 10,
   "metadata": {
    "collapsed": false
   },
   "outputs": [],
   "source": [
    "# Habilita todas as camadas para o salvamento\n",
    "for layer in vgg16_tr_model.layers:\n",
    "    layer.trainable = True\n",
    "    \n",
    "vgg16_tr_model.save_weights(models_dir+fire_vgg16_name)"
   ]
  },
  {
   "cell_type": "code",
   "execution_count": null,
   "metadata": {
    "collapsed": true
   },
   "outputs": [],
   "source": []
  }
 ],
 "metadata": {
  "anaconda-cloud": {},
  "kernelspec": {
   "display_name": "Python [Root]",
   "language": "python",
   "name": "Python [Root]"
  },
  "language_info": {
   "codemirror_mode": {
    "name": "ipython",
    "version": 2
   },
   "file_extension": ".py",
   "mimetype": "text/x-python",
   "name": "python",
   "nbconvert_exporter": "python",
   "pygments_lexer": "ipython2",
   "version": "2.7.13"
  }
 },
 "nbformat": 4,
 "nbformat_minor": 2
}
